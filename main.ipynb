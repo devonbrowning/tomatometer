{
 "cells": [
  {
   "cell_type": "code",
   "execution_count": 15,
   "id": "8ad89841-f8e1-445b-bef3-0058e539f429",
   "metadata": {},
   "outputs": [],
   "source": [
    "from pyspark.sql import SparkSession\n",
    "import pyspark.sql.functions as F\n",
    "import pandas as pd\n",
    "import seaborn as sns\n",
    "import matplotlib.pyplot as plt"
   ]
  },
  {
   "cell_type": "code",
   "execution_count": 16,
   "id": "dde45871-71e4-490a-88f6-4c3381a0b680",
   "metadata": {},
   "outputs": [],
   "source": [
    "spark = SparkSession.builder.appName(\"Rotten Tomatoes Data Processing\").getOrCreate()"
   ]
  },
  {
   "cell_type": "code",
   "execution_count": 17,
   "id": "f5a2f0b6-038f-44d5-a5aa-4884317ddf67",
   "metadata": {},
   "outputs": [
    {
     "name": "stdout",
     "output_type": "stream",
     "text": [
      "root\n",
      " |-- id: string (nullable = true)\n",
      " |-- title: string (nullable = true)\n",
      " |-- audienceScore: integer (nullable = true)\n",
      " |-- tomatoMeter: integer (nullable = true)\n",
      " |-- rating: string (nullable = true)\n",
      " |-- ratingContents: string (nullable = true)\n",
      " |-- releaseDateTheaters: date (nullable = true)\n",
      " |-- releaseDateStreaming: string (nullable = true)\n",
      " |-- runtimeMinutes: integer (nullable = true)\n",
      " |-- genre: string (nullable = true)\n",
      " |-- originalLanguage: string (nullable = true)\n",
      " |-- director: string (nullable = true)\n",
      " |-- writer: string (nullable = true)\n",
      " |-- boxOffice: string (nullable = true)\n",
      " |-- distributor: string (nullable = true)\n",
      " |-- soundMix: string (nullable = true)\n",
      "\n"
     ]
    }
   ],
   "source": [
    "df = spark.read.csv(\"rotten-tomatoes/rotten_tomatoes_movies.csv\", header=True, inferSchema=True)\n",
    "df.printSchema()"
   ]
  },
  {
   "cell_type": "markdown",
   "id": "aae5a73a-d8e8-4110-a90e-bb3e89e4b3dd",
   "metadata": {},
   "source": [
    "### Cleaning"
   ]
  },
  {
   "cell_type": "code",
   "execution_count": 18,
   "id": "92ec96c4-d81a-4c44-8017-f700f8b30fba",
   "metadata": {},
   "outputs": [
    {
     "name": "stdout",
     "output_type": "stream",
     "text": [
      "+-------------+-----------+-------------------+\n",
      "|audienceScore|tomatoMeter|releaseDateTheaters|\n",
      "+-------------+-----------+-------------------+\n",
      "|        70010|     109381|             112485|\n",
      "+-------------+-----------+-------------------+\n",
      "\n"
     ]
    }
   ],
   "source": [
    "def showNullCols():\n",
    "    df.select([F.count(F.when(F.col(c).isNull(), c)).alias(c)for c in ['audienceScore', 'tomatoMeter', 'releaseDateTheaters']]).show()\n",
    "showNullCols()"
   ]
  },
  {
   "cell_type": "code",
   "execution_count": 19,
   "id": "e69f5472-cf25-42e9-8f36-aae8e40e8a60",
   "metadata": {},
   "outputs": [],
   "source": [
    "# Drop rows with null values in the specified columns\n",
    "df = df.dropna(subset=[\"audienceScore\", \"tomatoMeter\", \"releaseDateTheaters\"])"
   ]
  },
  {
   "cell_type": "code",
   "execution_count": 20,
   "id": "44506b12-2492-477b-b570-89239d5a056f",
   "metadata": {},
   "outputs": [
    {
     "name": "stdout",
     "output_type": "stream",
     "text": [
      "+-------------+-----------+-------------------+\n",
      "|audienceScore|tomatoMeter|releaseDateTheaters|\n",
      "+-------------+-----------+-------------------+\n",
      "|            0|          0|                  0|\n",
      "+-------------+-----------+-------------------+\n",
      "\n"
     ]
    }
   ],
   "source": [
    "def showNullCols():\n",
    "    df.select([F.count(F.when(F.col(c).isNull(), c)).alias(c)for c in ['audienceScore', 'tomatoMeter', 'releaseDateTheaters']]).show()\n",
    "showNullCols()"
   ]
  },
  {
   "cell_type": "markdown",
   "id": "9261e90e-5419-424a-b512-92538ecd78c4",
   "metadata": {},
   "source": [
    "### Processing"
   ]
  },
  {
   "cell_type": "code",
   "execution_count": 22,
   "id": "f2110dcd-f067-42fa-943a-2f886addefca",
   "metadata": {},
   "outputs": [
    {
     "name": "stdout",
     "output_type": "stream",
     "text": [
      "+----+\n",
      "|year|\n",
      "+----+\n",
      "|2018|\n",
      "|1947|\n",
      "|2009|\n",
      "|2011|\n",
      "|2005|\n",
      "|2017|\n",
      "|1963|\n",
      "|1996|\n",
      "|2009|\n",
      "|1991|\n",
      "|2002|\n",
      "|2017|\n",
      "|2022|\n",
      "|2015|\n",
      "|1993|\n",
      "|2012|\n",
      "|2019|\n",
      "|2017|\n",
      "|2014|\n",
      "|2004|\n",
      "+----+\n",
      "only showing top 20 rows\n",
      "\n"
     ]
    }
   ],
   "source": [
    "df = df.withColumn(\"year\", F.year(df.releaseDateTheaters))\n",
    "df.select('year').show()"
   ]
  },
  {
   "cell_type": "code",
   "execution_count": 31,
   "id": "f91514c5-8a42-44ff-b309-6c547f86e8b5",
   "metadata": {},
   "outputs": [],
   "source": [
    "# Select top 5000 movies based on Tomatometer score\n",
    "df = df.orderBy(df[\"tomatoMeter\"].desc(), df[\"title\"].asc()).limit(5000)"
   ]
  },
  {
   "cell_type": "code",
   "execution_count": 32,
   "id": "bae1101a-9328-4027-b904-cd65a1c84eb1",
   "metadata": {},
   "outputs": [
    {
     "name": "stdout",
     "output_type": "stream",
     "text": [
      "+-----------+--------------------+\n",
      "|tomatoMeter|               title|\n",
      "+-----------+--------------------+\n",
      "|        100|\"J.R. \"\"Bob\"\" Dob...|\n",
      "|        100|                 '96|\n",
      "|        100|100 Years of Men ...|\n",
      "|        100|               11:55|\n",
      "|        100|        12 Angry Men|\n",
      "|        100|            16 Acres|\n",
      "|        100|2022 Oscar Nomina...|\n",
      "|        100|                2LDK|\n",
      "|        100|                  36|\n",
      "|        100|      4 Little Girls|\n",
      "|        100|             5-25-77|\n",
      "|        100|                  5B|\n",
      "|        100|             76 Days|\n",
      "|        100|     99 River Street|\n",
      "|        100|  A Beautiful Planet|\n",
      "|        100|     A Bigger Splash|\n",
      "|        100|    A Brother's Kiss|\n",
      "|        100|   A Christmas Carol|\n",
      "|        100|   A City of Sadness|\n",
      "|        100|A Crime on the Bayou|\n",
      "+-----------+--------------------+\n",
      "only showing top 20 rows\n",
      "\n"
     ]
    }
   ],
   "source": [
    "df.select(['tomatoMeter', 'title']).show()"
   ]
  },
  {
   "cell_type": "markdown",
   "id": "958b44b1-1f42-454a-9cc1-2c1790bb9026",
   "metadata": {},
   "source": [
    "### Save as Parquet for loading into Pandas"
   ]
  },
  {
   "cell_type": "code",
   "execution_count": 33,
   "id": "d0bb2990-07ac-4e8a-939c-ca8173a4ce0b",
   "metadata": {},
   "outputs": [],
   "source": [
    "df.write.parquet('processed.parquet', mode='overwrite')"
   ]
  },
  {
   "cell_type": "code",
   "execution_count": 34,
   "id": "600f5b08-1483-4c0c-a7be-49da772bbf7d",
   "metadata": {},
   "outputs": [
    {
     "data": {
      "text/html": [
       "<div>\n",
       "<style scoped>\n",
       "    .dataframe tbody tr th:only-of-type {\n",
       "        vertical-align: middle;\n",
       "    }\n",
       "\n",
       "    .dataframe tbody tr th {\n",
       "        vertical-align: top;\n",
       "    }\n",
       "\n",
       "    .dataframe thead th {\n",
       "        text-align: right;\n",
       "    }\n",
       "</style>\n",
       "<table border=\"1\" class=\"dataframe\">\n",
       "  <thead>\n",
       "    <tr style=\"text-align: right;\">\n",
       "      <th></th>\n",
       "      <th>id</th>\n",
       "      <th>title</th>\n",
       "      <th>audienceScore</th>\n",
       "      <th>tomatoMeter</th>\n",
       "      <th>rating</th>\n",
       "      <th>ratingContents</th>\n",
       "      <th>releaseDateTheaters</th>\n",
       "      <th>releaseDateStreaming</th>\n",
       "      <th>runtimeMinutes</th>\n",
       "      <th>genre</th>\n",
       "      <th>originalLanguage</th>\n",
       "      <th>director</th>\n",
       "      <th>writer</th>\n",
       "      <th>boxOffice</th>\n",
       "      <th>distributor</th>\n",
       "      <th>soundMix</th>\n",
       "      <th>year</th>\n",
       "    </tr>\n",
       "  </thead>\n",
       "  <tbody>\n",
       "    <tr>\n",
       "      <th>0</th>\n",
       "      <td>jr_bob_dobbs_and_the_church_of_the_subgenius</td>\n",
       "      <td>\"J.R. \"\"Bob\"\" Dobbs &amp; The Church of the SubGen...</td>\n",
       "      <td>36</td>\n",
       "      <td>100</td>\n",
       "      <td>None</td>\n",
       "      <td>None</td>\n",
       "      <td>2020-10-16</td>\n",
       "      <td>2020-10-20</td>\n",
       "      <td>80.0</td>\n",
       "      <td>Documentary, Comedy</td>\n",
       "      <td>English</td>\n",
       "      <td>Sandy K. Boone</td>\n",
       "      <td>Sandy K. Boone,Jason Wehling</td>\n",
       "      <td>None</td>\n",
       "      <td>Dark Star Pictures</td>\n",
       "      <td>None</td>\n",
       "      <td>2020</td>\n",
       "    </tr>\n",
       "    <tr>\n",
       "      <th>1</th>\n",
       "      <td>96</td>\n",
       "      <td>'96</td>\n",
       "      <td>89</td>\n",
       "      <td>100</td>\n",
       "      <td>None</td>\n",
       "      <td>None</td>\n",
       "      <td>2018-10-03</td>\n",
       "      <td>None</td>\n",
       "      <td>158.0</td>\n",
       "      <td>Romance</td>\n",
       "      <td>Tamil</td>\n",
       "      <td>C. Premkumar</td>\n",
       "      <td>C. Premkumar</td>\n",
       "      <td>$234.2K</td>\n",
       "      <td>None</td>\n",
       "      <td>None</td>\n",
       "      <td>2018</td>\n",
       "    </tr>\n",
       "    <tr>\n",
       "      <th>2</th>\n",
       "      <td>100_years_of_men_in_love</td>\n",
       "      <td>100 Years of Men in Love: The Accidental Colle...</td>\n",
       "      <td>55</td>\n",
       "      <td>100</td>\n",
       "      <td>None</td>\n",
       "      <td>None</td>\n",
       "      <td>2022-03-23</td>\n",
       "      <td>2022-03-25</td>\n",
       "      <td>57.0</td>\n",
       "      <td>Documentary, History, Lgbtq+</td>\n",
       "      <td>English</td>\n",
       "      <td>David Millbern</td>\n",
       "      <td>David Millbern</td>\n",
       "      <td>None</td>\n",
       "      <td>Here TV</td>\n",
       "      <td>None</td>\n",
       "      <td>2022</td>\n",
       "    </tr>\n",
       "    <tr>\n",
       "      <th>3</th>\n",
       "      <td>1155</td>\n",
       "      <td>11:55</td>\n",
       "      <td>80</td>\n",
       "      <td>100</td>\n",
       "      <td>None</td>\n",
       "      <td>None</td>\n",
       "      <td>2017-06-09</td>\n",
       "      <td>2017-06-09</td>\n",
       "      <td>80.0</td>\n",
       "      <td>Crime, Drama</td>\n",
       "      <td>English</td>\n",
       "      <td>Ari Issler,Ben Snyder</td>\n",
       "      <td>Victor Almanzar,Ari Issler,Ben Snyder</td>\n",
       "      <td>None</td>\n",
       "      <td>Gravitas Ventures</td>\n",
       "      <td>None</td>\n",
       "      <td>2017</td>\n",
       "    </tr>\n",
       "    <tr>\n",
       "      <th>4</th>\n",
       "      <td>1000013_12_angry_men</td>\n",
       "      <td>12 Angry Men</td>\n",
       "      <td>97</td>\n",
       "      <td>100</td>\n",
       "      <td>None</td>\n",
       "      <td>None</td>\n",
       "      <td>1957-04-20</td>\n",
       "      <td>2008-03-04</td>\n",
       "      <td>95.0</td>\n",
       "      <td>Drama</td>\n",
       "      <td>English</td>\n",
       "      <td>Sidney Lumet</td>\n",
       "      <td>Reginald Rose</td>\n",
       "      <td>None</td>\n",
       "      <td>Criterion Collection, MGM/UA Home Entertainmen...</td>\n",
       "      <td>None</td>\n",
       "      <td>1957</td>\n",
       "    </tr>\n",
       "  </tbody>\n",
       "</table>\n",
       "</div>"
      ],
      "text/plain": [
       "                                             id  \\\n",
       "0  jr_bob_dobbs_and_the_church_of_the_subgenius   \n",
       "1                                            96   \n",
       "2                      100_years_of_men_in_love   \n",
       "3                                          1155   \n",
       "4                          1000013_12_angry_men   \n",
       "\n",
       "                                               title  audienceScore  \\\n",
       "0  \"J.R. \"\"Bob\"\" Dobbs & The Church of the SubGen...             36   \n",
       "1                                                '96             89   \n",
       "2  100 Years of Men in Love: The Accidental Colle...             55   \n",
       "3                                              11:55             80   \n",
       "4                                       12 Angry Men             97   \n",
       "\n",
       "   tomatoMeter rating ratingContents releaseDateTheaters releaseDateStreaming  \\\n",
       "0          100   None           None          2020-10-16           2020-10-20   \n",
       "1          100   None           None          2018-10-03                 None   \n",
       "2          100   None           None          2022-03-23           2022-03-25   \n",
       "3          100   None           None          2017-06-09           2017-06-09   \n",
       "4          100   None           None          1957-04-20           2008-03-04   \n",
       "\n",
       "   runtimeMinutes                         genre originalLanguage  \\\n",
       "0            80.0           Documentary, Comedy          English   \n",
       "1           158.0                       Romance            Tamil   \n",
       "2            57.0  Documentary, History, Lgbtq+          English   \n",
       "3            80.0                  Crime, Drama          English   \n",
       "4            95.0                         Drama          English   \n",
       "\n",
       "                director                                 writer boxOffice  \\\n",
       "0         Sandy K. Boone           Sandy K. Boone,Jason Wehling      None   \n",
       "1           C. Premkumar                           C. Premkumar   $234.2K   \n",
       "2         David Millbern                         David Millbern      None   \n",
       "3  Ari Issler,Ben Snyder  Victor Almanzar,Ari Issler,Ben Snyder      None   \n",
       "4           Sidney Lumet                          Reginald Rose      None   \n",
       "\n",
       "                                         distributor soundMix  year  \n",
       "0                                 Dark Star Pictures     None  2020  \n",
       "1                                               None     None  2018  \n",
       "2                                            Here TV     None  2022  \n",
       "3                                  Gravitas Ventures     None  2017  \n",
       "4  Criterion Collection, MGM/UA Home Entertainmen...     None  1957  "
      ]
     },
     "execution_count": 34,
     "metadata": {},
     "output_type": "execute_result"
    }
   ],
   "source": [
    "df = pd.read_parquet('processed.parquet')\n",
    "df.head()"
   ]
  },
  {
   "cell_type": "markdown",
   "id": "a4666dae-3ad7-4024-85af-cdc9b84384cb",
   "metadata": {},
   "source": [
    "### EDA Exploration"
   ]
  },
  {
   "cell_type": "markdown",
   "id": "d85e2e53-43cd-480d-a5a9-21b615ef8a2b",
   "metadata": {},
   "source": [
    "#### ScatterPlot"
   ]
  },
  {
   "cell_type": "code",
   "execution_count": 36,
   "id": "8aa6194f-b6c7-4591-9740-87a5e258dbd9",
   "metadata": {},
   "outputs": [
    {
     "data": {
      "image/png": "[encoded data removed]",
      "text/plain": [
       "<Figure size 640x480 with 1 Axes>"
      ]
     },
     "metadata": {},
     "output_type": "display_data"
    }
   ],
   "source": [
    "plt.scatter(df['audienceScore'], df['tomatoMeter'])\n",
    "plt.xlabel('Audience Score')\n",
    "plt.ylabel('Tomatometer Score')\n",
    "plt.title('Audience Score vs. Tomatometer Score')\n",
    "plt.show()"
   ]
  },
  {
   "cell_type": "markdown",
   "id": "48d51fc4-1e88-48de-9c8d-8838d1585fae",
   "metadata": {},
   "source": [
    "#### Line Chart"
   ]
  },
  {
   "cell_type": "code",
   "execution_count": 37,
   "id": "3ab0dd83-26da-4dd9-9952-9c3cfe948689",
   "metadata": {},
   "outputs": [
    {
     "data": {
      "image/png": "[encoded data removed]",
      "text/plain": [
       "<Figure size 1000x600 with 1 Axes>"
      ]
     },
     "metadata": {},
     "output_type": "display_data"
    }
   ],
   "source": [
    "# Calculate average scores by year\n",
    "avg_scores_by_year = df.groupby('year').agg({'tomatoMeter': 'mean', 'audienceScore': 'mean'}).reset_index()\n",
    "\n",
    "plt.figure(figsize=(10, 6))\n",
    "plt.plot(avg_scores_by_year['year'], avg_scores_by_year['tomatoMeter'], label='Tomatometer Score')\n",
    "plt.plot(avg_scores_by_year['year'], avg_scores_by_year['audienceScore'], label='Audience Score')\n",
    "plt.xlabel('Year')\n",
    "plt.ylabel('Average Score')\n",
    "plt.title('Average Scores Over Time')\n",
    "plt.legend()\n",
    "plt.show()"
   ]
  },
  {
   "cell_type": "markdown",
   "id": "c383a3ec-41a2-4f56-ae1d-c33fe2219d01",
   "metadata": {},
   "source": [
    "#### Bar Chart"
   ]
  },
  {
   "cell_type": "code",
   "execution_count": null,
   "id": "a9a33384-c4d2-44e2-9666-3194ebaa89c3",
   "metadata": {},
   "outputs": [],
   "source": [
    "# Filter for languages\n",
    "languages = ['Arabic', 'Yiddish', 'English', 'Chinese', 'French', 'Spanish']\n",
    "filtered_df = df[df['originalLanguage'].isin(languages)]"
   ]
  },
  {
   "cell_type": "code",
   "execution_count": 40,
   "id": "18a65f8b-a668-4c71-bff1-16c19c14abd6",
   "metadata": {},
   "outputs": [
    {
     "data": {
      "text/html": [
       "<div>\n",
       "<style scoped>\n",
       "    .dataframe tbody tr th:only-of-type {\n",
       "        vertical-align: middle;\n",
       "    }\n",
       "\n",
       "    .dataframe tbody tr th {\n",
       "        vertical-align: top;\n",
       "    }\n",
       "\n",
       "    .dataframe thead th {\n",
       "        text-align: right;\n",
       "    }\n",
       "</style>\n",
       "<table border=\"1\" class=\"dataframe\">\n",
       "  <thead>\n",
       "    <tr style=\"text-align: right;\">\n",
       "      <th></th>\n",
       "      <th>originalLanguage</th>\n",
       "      <th>tomatoMeter</th>\n",
       "      <th>audienceScore</th>\n",
       "    </tr>\n",
       "  </thead>\n",
       "  <tbody>\n",
       "    <tr>\n",
       "      <th>0</th>\n",
       "      <td>Arabic</td>\n",
       "      <td>93.893617</td>\n",
       "      <td>81.021277</td>\n",
       "    </tr>\n",
       "    <tr>\n",
       "      <th>1</th>\n",
       "      <td>Chinese</td>\n",
       "      <td>93.917526</td>\n",
       "      <td>79.402062</td>\n",
       "    </tr>\n",
       "    <tr>\n",
       "      <th>2</th>\n",
       "      <td>English</td>\n",
       "      <td>93.734092</td>\n",
       "      <td>78.606246</td>\n",
       "    </tr>\n",
       "    <tr>\n",
       "      <th>3</th>\n",
       "      <td>French</td>\n",
       "      <td>94.000000</td>\n",
       "      <td>92.000000</td>\n",
       "    </tr>\n",
       "    <tr>\n",
       "      <th>4</th>\n",
       "      <td>Spanish</td>\n",
       "      <td>93.415842</td>\n",
       "      <td>75.722772</td>\n",
       "    </tr>\n",
       "    <tr>\n",
       "      <th>5</th>\n",
       "      <td>Yiddish</td>\n",
       "      <td>97.500000</td>\n",
       "      <td>64.500000</td>\n",
       "    </tr>\n",
       "  </tbody>\n",
       "</table>\n",
       "</div>"
      ],
      "text/plain": [
       "  originalLanguage  tomatoMeter  audienceScore\n",
       "0           Arabic    93.893617      81.021277\n",
       "1          Chinese    93.917526      79.402062\n",
       "2          English    93.734092      78.606246\n",
       "3           French    94.000000      92.000000\n",
       "4          Spanish    93.415842      75.722772\n",
       "5          Yiddish    97.500000      64.500000"
      ]
     },
     "execution_count": 40,
     "metadata": {},
     "output_type": "execute_result"
    }
   ],
   "source": [
    "# average scores by language\n",
    "avg_scores_by_lang = filtered_df.groupby('originalLanguage').agg({'tomatoMeter': 'mean', 'audienceScore': 'mean'}).reset_index()\n",
    "avg_scores_by_lang"
   ]
  },
  {
   "cell_type": "code",
   "execution_count": 41,
   "id": "a39fb21f-883a-488e-b4cb-caf0d03c0f40",
   "metadata": {},
   "outputs": [
    {
     "data": {
      "text/html": [
       "<div>\n",
       "<style scoped>\n",
       "    .dataframe tbody tr th:only-of-type {\n",
       "        vertical-align: middle;\n",
       "    }\n",
       "\n",
       "    .dataframe tbody tr th {\n",
       "        vertical-align: top;\n",
       "    }\n",
       "\n",
       "    .dataframe thead th {\n",
       "        text-align: right;\n",
       "    }\n",
       "</style>\n",
       "<table border=\"1\" class=\"dataframe\">\n",
       "  <thead>\n",
       "    <tr style=\"text-align: right;\">\n",
       "      <th></th>\n",
       "      <th>originalLanguage</th>\n",
       "      <th>Score Type</th>\n",
       "      <th>Average Score</th>\n",
       "    </tr>\n",
       "  </thead>\n",
       "  <tbody>\n",
       "    <tr>\n",
       "      <th>0</th>\n",
       "      <td>Arabic</td>\n",
       "      <td>tomatoMeter</td>\n",
       "      <td>93.893617</td>\n",
       "    </tr>\n",
       "    <tr>\n",
       "      <th>1</th>\n",
       "      <td>Chinese</td>\n",
       "      <td>tomatoMeter</td>\n",
       "      <td>93.917526</td>\n",
       "    </tr>\n",
       "    <tr>\n",
       "      <th>2</th>\n",
       "      <td>English</td>\n",
       "      <td>tomatoMeter</td>\n",
       "      <td>93.734092</td>\n",
       "    </tr>\n",
       "    <tr>\n",
       "      <th>3</th>\n",
       "      <td>French</td>\n",
       "      <td>tomatoMeter</td>\n",
       "      <td>94.000000</td>\n",
       "    </tr>\n",
       "    <tr>\n",
       "      <th>4</th>\n",
       "      <td>Spanish</td>\n",
       "      <td>tomatoMeter</td>\n",
       "      <td>93.415842</td>\n",
       "    </tr>\n",
       "    <tr>\n",
       "      <th>5</th>\n",
       "      <td>Yiddish</td>\n",
       "      <td>tomatoMeter</td>\n",
       "      <td>97.500000</td>\n",
       "    </tr>\n",
       "    <tr>\n",
       "      <th>6</th>\n",
       "      <td>Arabic</td>\n",
       "      <td>audienceScore</td>\n",
       "      <td>81.021277</td>\n",
       "    </tr>\n",
       "    <tr>\n",
       "      <th>7</th>\n",
       "      <td>Chinese</td>\n",
       "      <td>audienceScore</td>\n",
       "      <td>79.402062</td>\n",
       "    </tr>\n",
       "    <tr>\n",
       "      <th>8</th>\n",
       "      <td>English</td>\n",
       "      <td>audienceScore</td>\n",
       "      <td>78.606246</td>\n",
       "    </tr>\n",
       "    <tr>\n",
       "      <th>9</th>\n",
       "      <td>French</td>\n",
       "      <td>audienceScore</td>\n",
       "      <td>92.000000</td>\n",
       "    </tr>\n",
       "    <tr>\n",
       "      <th>10</th>\n",
       "      <td>Spanish</td>\n",
       "      <td>audienceScore</td>\n",
       "      <td>75.722772</td>\n",
       "    </tr>\n",
       "    <tr>\n",
       "      <th>11</th>\n",
       "      <td>Yiddish</td>\n",
       "      <td>audienceScore</td>\n",
       "      <td>64.500000</td>\n",
       "    </tr>\n",
       "  </tbody>\n",
       "</table>\n",
       "</div>"
      ],
      "text/plain": [
       "   originalLanguage     Score Type  Average Score\n",
       "0            Arabic    tomatoMeter      93.893617\n",
       "1           Chinese    tomatoMeter      93.917526\n",
       "2           English    tomatoMeter      93.734092\n",
       "3            French    tomatoMeter      94.000000\n",
       "4           Spanish    tomatoMeter      93.415842\n",
       "5           Yiddish    tomatoMeter      97.500000\n",
       "6            Arabic  audienceScore      81.021277\n",
       "7           Chinese  audienceScore      79.402062\n",
       "8           English  audienceScore      78.606246\n",
       "9            French  audienceScore      92.000000\n",
       "10          Spanish  audienceScore      75.722772\n",
       "11          Yiddish  audienceScore      64.500000"
      ]
     },
     "execution_count": 41,
     "metadata": {},
     "output_type": "execute_result"
    }
   ],
   "source": [
    "# Melt the df for easier plotting\n",
    "avg_scores_melted = pd.melt(avg_scores_by_lang, id_vars=['originalLanguage'], value_vars=['tomatoMeter', 'audienceScore'], var_name='Score Type', value_name='Average Score')\n",
    "avg_scores_melted"
   ]
  },
  {
   "cell_type": "code",
   "execution_count": 42,
   "id": "e26572b8-445c-4229-a05e-b2f87045dc87",
   "metadata": {},
   "outputs": [
    {
     "data": {
      "image/png": "[encoded data removed]",
      "text/plain": [
       "<Figure size 900x600 with 1 Axes>"
      ]
     },
     "metadata": {},
     "output_type": "display_data"
    }
   ],
   "source": [
    "# Plot bar chart\n",
    "plt.figure(figsize=(9, 6))\n",
    "sns.barplot(x='originalLanguage', y='Average Score', hue='Score Type', data=avg_scores_melted)\n",
    "plt.title('Average Audience vs. Tomatometer Scores by Language')\n",
    "plt.show()"
   ]
  },
  {
   "cell_type": "markdown",
   "id": "4940e07c-01eb-4ead-985e-e09d39241ad7",
   "metadata": {},
   "source": [
    "### Extended Challenges"
   ]
  },
  {
   "cell_type": "markdown",
   "id": "0778fc93-9fd3-480a-bd53-2baa418b3a77",
   "metadata": {},
   "source": [
    "1. Convert: Convert boxOffice to a number. Take into account that the string format includes a suffix such as \"K\", \"M\", \"B\", etc."
   ]
  },
  {
   "cell_type": "code",
   "execution_count": 47,
   "id": "cbcdcdaf-7f91-418f-bda6-86ba722f66dc",
   "metadata": {},
   "outputs": [
    {
     "name": "stdout",
     "output_type": "stream",
     "text": [
      "0          None\n",
      "1       $234.2K\n",
      "2          None\n",
      "3          None\n",
      "4          None\n",
      "         ...   \n",
      "4995       None\n",
      "4996       None\n",
      "4997      $1.1M\n",
      "4998     $30.7K\n",
      "4999       None\n",
      "Name: boxOffice, Length: 5000, dtype: object\n"
     ]
    }
   ],
   "source": [
    "print(df[\"boxOffice\"])"
   ]
  },
  {
   "cell_type": "code",
   "execution_count": 51,
   "id": "5b88e78c-76a0-4789-b161-39b740529598",
   "metadata": {},
   "outputs": [
    {
     "name": "stdout",
     "output_type": "stream",
     "text": [
      "[None '$234.2K' '$130.1K' ... '$853.7K' '$261.5K' '$30.7K']\n"
     ]
    }
   ],
   "source": [
    "print(df['boxOffice'].unique())"
   ]
  },
  {
   "cell_type": "code",
   "execution_count": 55,
   "id": "ced2db67-63d5-483c-a1bb-936a861691ee",
   "metadata": {},
   "outputs": [
    {
     "name": "stdout",
     "output_type": "stream",
     "text": [
      "Unexpected value encountered: Waldemar Young\"\n",
      "  boxOffice  boxOfficeNum\n",
      "0      None           NaN\n",
      "1   $234.2K      234200.0\n",
      "2      None           NaN\n",
      "3      None           NaN\n",
      "4      None           NaN\n",
      "5      None           NaN\n",
      "6      None           NaN\n",
      "7      None           NaN\n",
      "8      None           NaN\n",
      "9   $130.1K      130100.0\n"
     ]
    }
   ],
   "source": [
    "# convert box office str to numeric value\n",
    "def convert_box_office(value):\n",
    "    if pd.isna(value) or not isinstance(value, str): \n",
    "        return None\n",
    "        \n",
    "    value = value.replace('$', '')  \n",
    "    \n",
    "    try:\n",
    "        if 'K' in value:\n",
    "            return float(value.replace('K', '')) * 1_000\n",
    "        elif 'M' in value:\n",
    "            return float(value.replace('M', '')) * 1_000_000\n",
    "        elif 'B' in value:\n",
    "            return float(value.replace('B', '')) * 1_000_000_000\n",
    "        else:\n",
    "            return float(value)\n",
    "    except:\n",
    "        print(f\"Unexpected value encountered: {value}\")\n",
    "        return None\n",
    "\n",
    "# Apply conversion function to boxOffice col\n",
    "df['boxOfficeNum'] = df['boxOffice'].apply(convert_box_office)\n",
    "\n",
    "print(df[['boxOffice', 'boxOfficeNum']].head(10))"
   ]
  },
  {
   "cell_type": "code",
   "execution_count": 58,
   "id": "931b7209-35f2-47c2-bc25-e934661903e5",
   "metadata": {},
   "outputs": [
    {
     "name": "stdout",
     "output_type": "stream",
     "text": [
      "    boxOffice  boxOfficeNum\n",
      "1     $234.2K      234200.0\n",
      "9     $130.1K      130100.0\n",
      "11     $40.0K       40000.0\n",
      "14     $15.7M    15700000.0\n",
      "15     $44.3K       44300.0\n",
      "16     $25.8K       25800.0\n",
      "26      $4.0K        4000.0\n",
      "28       $390         390.0\n",
      "30     $12.0M    12000000.0\n",
      "36     $45.4K       45400.0\n",
      "37    $121.5K      121500.0\n",
      "42    $101.5K      101500.0\n",
      "43     $71.7K       71700.0\n",
      "47     $91.3K       91300.0\n",
      "55     $67.6K       67600.0\n",
      "59     $11.5K       11500.0\n",
      "70      $6.2K        6200.0\n",
      "71      $4.3K        4300.0\n",
      "72     $27.9K       27900.0\n",
      "81     $39.4K       39400.0\n",
      "84    $109.7K      109700.0\n",
      "93     $42.0K       42000.0\n",
      "97     $51.0K       51000.0\n",
      "100     $4.7M     4700000.0\n",
      "102    $12.2K       12200.0\n"
     ]
    }
   ],
   "source": [
    "filtered_df = df[df['boxOfficeNum'].notna()]\n",
    "print(filtered_df[['boxOffice', 'boxOfficeNum']].head(25))"
   ]
  },
  {
   "cell_type": "markdown",
   "id": "84485802-27b1-464c-adec-2aa2c4224cda",
   "metadata": {},
   "source": [
    "> Depending on further analysis, drop NaN and unexpected values"
   ]
  }
 ],
 "metadata": {
  "kernelspec": {
   "display_name": "Python 3 (ipykernel)",
   "language": "python",
   "name": "python3"
  },
  "language_info": {
   "codemirror_mode": {
    "name": "ipython",
    "version": 3
   },
   "file_extension": ".py",
   "mimetype": "text/x-python",
   "name": "python",
   "nbconvert_exporter": "python",
   "pygments_lexer": "ipython3",
   "version": "3.11.6"
  }
 },
 "nbformat": 4,
 "nbformat_minor": 5
}
